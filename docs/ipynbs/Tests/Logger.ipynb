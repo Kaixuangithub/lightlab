{
 "cells": [
  {
   "cell_type": "markdown",
   "metadata": {},
   "source": [
    "# Basic logger usage. Two independent levels for visa-related and other"
   ]
  },
  {
   "cell_type": "code",
   "execution_count": 1,
   "metadata": {},
   "outputs": [],
   "source": [
    "from lightlab import logger, visalogger, log_to_screen, log_visa_to_screen, DEBUG, WARNING"
   ]
  },
  {
   "cell_type": "code",
   "execution_count": 2,
   "metadata": {},
   "outputs": [],
   "source": [
    "def battery():\n",
    "    logger.warning('Warn')\n",
    "    visalogger.warning('Visa warn')\n",
    "    logger.debug('Debug')\n",
    "    visalogger.debug('Visa debug')"
   ]
  },
  {
   "cell_type": "code",
   "execution_count": 3,
   "metadata": {},
   "outputs": [
    {
     "name": "stderr",
     "output_type": "stream",
     "text": [
      "2018-03-22 23:27:33,382 - WARNING - lightlab:\n",
      "\tWarn\n",
      "2018-03-22 23:27:33,384 - WARNING - lightlab.visa:\n",
      "\tVisa warn\n"
     ]
    }
   ],
   "source": [
    "log_to_screen(WARNING)\n",
    "battery()"
   ]
  },
  {
   "cell_type": "code",
   "execution_count": 4,
   "metadata": {},
   "outputs": [
    {
     "name": "stderr",
     "output_type": "stream",
     "text": [
      "2018-03-22 23:27:33,693 - WARNING - lightlab:\n",
      "\tWarn\n",
      "2018-03-22 23:27:33,695 - WARNING - lightlab.visa:\n",
      "\tVisa warn\n",
      "2018-03-22 23:27:33,696 - DEBUG - lightlab:\n",
      "\tDebug\n"
     ]
    }
   ],
   "source": [
    "log_to_screen(DEBUG)\n",
    "battery()"
   ]
  },
  {
   "cell_type": "code",
   "execution_count": 5,
   "metadata": {},
   "outputs": [
    {
     "name": "stderr",
     "output_type": "stream",
     "text": [
      "2018-03-22 23:27:34,045 - WARNING - lightlab:\n",
      "\tWarn\n",
      "2018-03-22 23:27:34,047 - WARNING - lightlab.visa:\n",
      "\tVisa warn\n",
      "2018-03-22 23:27:34,052 - DEBUG - lightlab:\n",
      "\tDebug\n",
      "2018-03-22 23:27:34,053 - DEBUG - lightlab.visa:\n",
      "\tVisa debug\n"
     ]
    }
   ],
   "source": [
    "log_visa_to_screen(DEBUG)\n",
    "battery()"
   ]
  }
 ],
 "metadata": {
  "kernelspec": {
   "display_name": "Python 3",
   "language": "python",
   "name": "python3"
  },
  "language_info": {
   "codemirror_mode": {
    "name": "ipython",
    "version": 3
   },
   "file_extension": ".py",
   "mimetype": "text/x-python",
   "name": "python",
   "nbconvert_exporter": "python",
   "pygments_lexer": "ipython3",
   "version": "3.6.4"
  }
 },
 "nbformat": 4,
 "nbformat_minor": 2
}
